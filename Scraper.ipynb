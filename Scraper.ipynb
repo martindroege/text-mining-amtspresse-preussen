{
 "cells": [
  {
   "cell_type": "markdown",
   "metadata": {},
   "source": [
    "## Zefys Scraper der Amtspresse\n",
    "Links:\n",
    "* http://zefys.staatsbibliothek-berlin.de/index.php?id=amtspresse\n",
    "* https://lab.sbb.berlin/zefys/\n",
    "\n",
    "Link der API\n",
    "* https://content.staatsbibliothek-berlin.de/zefys/SNP9838247-18770117-F-0-0-0.xml\n",
    "\n",
    "Ziel ist es, die Zeitungsausgaben in Artikel aufzuteilen"
   ]
  },
  {
   "cell_type": "markdown",
   "metadata": {},
   "source": [
    "### Download der Dateien"
   ]
  },
  {
   "cell_type": "code",
   "execution_count": 1,
   "metadata": {},
   "outputs": [],
   "source": [
    "import pandas as pd\n",
    "from datetime import date\n",
    "import requests\n",
    "import time\n",
    "\n",
    "url_root = 'https://content.staatsbibliothek-berlin.de/zefys/' # hier folgt die Datums-ID\n",
    "url_PC = 'SNP9838247-'\n",
    "url_NM = 'SNP11614109-'\n",
    "url_suffix = '-F-0-0-0.xml'\n",
    "\n",
    "# Beginn und Ende der Schleife im Datumsformat\n",
    "\n",
    "start_date = date(1884, 12, 9) # Start des Zeitraums\n",
    "end_date = date(1894, 12, 8) # Ende des Zeitraums\n",
    "\n",
    "# Mit Pandas ein date_range-Objekt erstellen\n",
    "\n",
    "daterange = pd.date_range(start_date, end_date)\n",
    "\n",
    "# über daterange iterieren\n",
    "for date in daterange:\n",
    "\n",
    "    date_id = date.strftime(\"%Y%m%d\")\n",
    "    date_filename = date.strftime(\"%Y-%m-%d\")\n",
    "    \n",
    "    response = requests.get(url_root + url_NM + date_id + url_suffix)\n",
    "\n",
    "# Überprüfung, ob für ein Datum eine Datei vorliegt\n",
    "    try:\n",
    "        response.raise_for_status()\n",
    "        \n",
    "        # speichern der xml-Datei im Ordner\n",
    "        with open(f'./data_NM/{date_filename}.xml', 'wb') as f: \n",
    "            f.write(response.content)\n",
    "        \n",
    "        # speichern des Dateiname\n",
    "        with open('./lists_filenames/list-filenames_NM.txt', 'a') as f:\n",
    "            f.write(date_filename + '\\n')\n",
    "\n",
    "        # print(date_id)\n",
    "        # print(date_filename + ' gespeichert')\n",
    "\n",
    "    except:\n",
    "        continue\n",
    "    # time.sleep(2)\n"
   ]
  }
 ],
 "metadata": {
  "file_extension": ".py",
  "kernelspec": {
   "display_name": "Python 3",
   "language": "python",
   "name": "python3"
  },
  "language_info": {
   "codemirror_mode": {
    "name": "ipython",
    "version": 3
   },
   "file_extension": ".py",
   "mimetype": "text/x-python",
   "name": "python",
   "nbconvert_exporter": "python",
   "pygments_lexer": "ipython3",
   "version": "3.7.4"
  },
  "mimetype": "text/x-python",
  "name": "python",
  "npconvert_exporter": "python",
  "pygments_lexer": "ipython3",
  "version": 3
 },
 "nbformat": 4,
 "nbformat_minor": 4
}
